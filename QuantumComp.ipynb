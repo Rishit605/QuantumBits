{
 "cells": [
  {
   "cell_type": "code",
   "execution_count": 10,
   "id": "feb02534",
   "metadata": {
    "scrolled": true
   },
   "outputs": [],
   "source": [
    "from qiskit import QuantumCircuit, assemble, Aer\n",
    "from qiskit.visualization import plot_histogram\n",
    "# from qiskit_textbook.widgets import binary_widget"
   ]
  },
  {
   "cell_type": "code",
   "execution_count": 11,
   "id": "bf5e66f0",
   "metadata": {},
   "outputs": [],
   "source": [
    "qc = QuantumCircuit(8)"
   ]
  },
  {
   "cell_type": "code",
   "execution_count": 15,
   "id": "96f9c193",
   "metadata": {},
   "outputs": [],
   "source": [
    "qc.measure_all()"
   ]
  },
  {
   "cell_type": "code",
   "execution_count": 17,
   "id": "e448dc42",
   "metadata": {},
   "outputs": [
    {
     "data": {
      "text/html": [
       "<pre style=\"word-wrap: normal;white-space: pre;background: #fff0;line-height: 1.1;font-family: &quot;Courier New&quot;,Courier,monospace\">           ░ ┌─┐                     \n",
       "  q_0: |0>─░─┤M├─────────────────────\n",
       "           ░ └╥┘┌─┐                  \n",
       "  q_1: |0>─░──╫─┤M├──────────────────\n",
       "           ░  ║ └╥┘┌─┐               \n",
       "  q_2: |0>─░──╫──╫─┤M├───────────────\n",
       "           ░  ║  ║ └╥┘┌─┐            \n",
       "  q_3: |0>─░──╫──╫──╫─┤M├────────────\n",
       "           ░  ║  ║  ║ └╥┘┌─┐         \n",
       "  q_4: |0>─░──╫──╫──╫──╫─┤M├─────────\n",
       "           ░  ║  ║  ║  ║ └╥┘┌─┐      \n",
       "  q_5: |0>─░──╫──╫──╫──╫──╫─┤M├──────\n",
       "           ░  ║  ║  ║  ║  ║ └╥┘┌─┐   \n",
       "  q_6: |0>─░──╫──╫──╫──╫──╫──╫─┤M├───\n",
       "           ░  ║  ║  ║  ║  ║  ║ └╥┘┌─┐\n",
       "  q_7: |0>─░──╫──╫──╫──╫──╫──╫──╫─┤M├\n",
       "           ░  ║  ║  ║  ║  ║  ║  ║ └╥┘\n",
       "meas_0: 0 ════╩══╬══╬══╬══╬══╬══╬══╬═\n",
       "                 ║  ║  ║  ║  ║  ║  ║ \n",
       "meas_1: 0 ═══════╩══╬══╬══╬══╬══╬══╬═\n",
       "                    ║  ║  ║  ║  ║  ║ \n",
       "meas_2: 0 ══════════╩══╬══╬══╬══╬══╬═\n",
       "                       ║  ║  ║  ║  ║ \n",
       "meas_3: 0 ═════════════╩══╬══╬══╬══╬═\n",
       "                          ║  ║  ║  ║ \n",
       "meas_4: 0 ════════════════╩══╬══╬══╬═\n",
       "                             ║  ║  ║ \n",
       "meas_5: 0 ═══════════════════╩══╬══╬═\n",
       "                                ║  ║ \n",
       "meas_6: 0 ══════════════════════╩══╬═\n",
       "                                   ║ \n",
       "meas_7: 0 ═════════════════════════╩═\n",
       "                                     </pre>"
      ],
      "text/plain": [
       "           ░ ┌─┐                     \n",
       "  q_0: |0>─░─┤M├─────────────────────\n",
       "           ░ └╥┘┌─┐                  \n",
       "  q_1: |0>─░──╫─┤M├──────────────────\n",
       "           ░  ║ └╥┘┌─┐               \n",
       "  q_2: |0>─░──╫──╫─┤M├───────────────\n",
       "           ░  ║  ║ └╥┘┌─┐            \n",
       "  q_3: |0>─░──╫──╫──╫─┤M├────────────\n",
       "           ░  ║  ║  ║ └╥┘┌─┐         \n",
       "  q_4: |0>─░──╫──╫──╫──╫─┤M├─────────\n",
       "           ░  ║  ║  ║  ║ └╥┘┌─┐      \n",
       "  q_5: |0>─░──╫──╫──╫──╫──╫─┤M├──────\n",
       "           ░  ║  ║  ║  ║  ║ └╥┘┌─┐   \n",
       "  q_6: |0>─░──╫──╫──╫──╫──╫──╫─┤M├───\n",
       "           ░  ║  ║  ║  ║  ║  ║ └╥┘┌─┐\n",
       "  q_7: |0>─░──╫──╫──╫──╫──╫──╫──╫─┤M├\n",
       "           ░  ║  ║  ║  ║  ║  ║  ║ └╥┘\n",
       "meas_0: 0 ════╩══╬══╬══╬══╬══╬══╬══╬═\n",
       "                 ║  ║  ║  ║  ║  ║  ║ \n",
       "meas_1: 0 ═══════╩══╬══╬══╬══╬══╬══╬═\n",
       "                    ║  ║  ║  ║  ║  ║ \n",
       "meas_2: 0 ══════════╩══╬══╬══╬══╬══╬═\n",
       "                       ║  ║  ║  ║  ║ \n",
       "meas_3: 0 ═════════════╩══╬══╬══╬══╬═\n",
       "                          ║  ║  ║  ║ \n",
       "meas_4: 0 ════════════════╩══╬══╬══╬═\n",
       "                             ║  ║  ║ \n",
       "meas_5: 0 ═══════════════════╩══╬══╬═\n",
       "                                ║  ║ \n",
       "meas_6: 0 ══════════════════════╩══╬═\n",
       "                                   ║ \n",
       "meas_7: 0 ═════════════════════════╩═\n",
       "                                     "
      ]
     },
     "execution_count": 17,
     "metadata": {},
     "output_type": "execute_result"
    }
   ],
   "source": [
    "qc.draw(initial_state=True)"
   ]
  },
  {
   "cell_type": "code",
   "execution_count": 18,
   "id": "7093bdc7",
   "metadata": {},
   "outputs": [
    {
     "data": {
      "image/png": "[encoded data removed]",
      "text/plain": [
       "<Figure size 700x500 with 1 Axes>"
      ]
     },
     "execution_count": 18,
     "metadata": {},
     "output_type": "execute_result"
    }
   ],
   "source": [
    "sim = Aer.get_backend('aer_simulator')\n",
    "result = sim.run(qc).result()\n",
    "counts = result.get_counts()\n",
    "plot_histogram(counts)"
   ]
  },
  {
   "cell_type": "code",
   "execution_count": 20,
   "id": "bc4df570",
   "metadata": {},
   "outputs": [
    {
     "data": {
      "text/html": [
       "<pre style=\"word-wrap: normal;white-space: pre;background: #fff0;line-height: 1.1;font-family: &quot;Courier New&quot;,Courier,monospace\">          \n",
       "q_0: ─────\n",
       "          \n",
       "q_1: ─────\n",
       "          \n",
       "q_2: ─────\n",
       "          \n",
       "q_3: ─────\n",
       "          \n",
       "q_4: ─────\n",
       "          \n",
       "q_5: ─────\n",
       "          \n",
       "q_6: ─────\n",
       "     ┌───┐\n",
       "q_7: ┤ X ├\n",
       "     └───┘</pre>"
      ],
      "text/plain": [
       "          \n",
       "q_0: ─────\n",
       "          \n",
       "q_1: ─────\n",
       "          \n",
       "q_2: ─────\n",
       "          \n",
       "q_3: ─────\n",
       "          \n",
       "q_4: ─────\n",
       "          \n",
       "q_5: ─────\n",
       "          \n",
       "q_6: ─────\n",
       "     ┌───┐\n",
       "q_7: ┤ X ├\n",
       "     └───┘"
      ]
     },
     "execution_count": 20,
     "metadata": {},
     "output_type": "execute_result"
    }
   ],
   "source": [
    "qc1 = QuantumCircuit(8)\n",
    "qc1.x(7)\n",
    "qc1.draw()"
   ]
  },
  {
   "cell_type": "code",
   "execution_count": 23,
   "id": "e5dbf011",
   "metadata": {},
   "outputs": [
    {
     "data": {
      "text/html": [
       "<pre style=\"word-wrap: normal;white-space: pre;background: #fff0;line-height: 1.1;font-family: &quot;Courier New&quot;,Courier,monospace\">               ░ ┌─┐                      ░ ┌─┐                      ░ ┌─┐   »\n",
       "    q_0: ──────░─┤M├──────────────────────░─┤M├──────────────────────░─┤M├───»\n",
       "               ░ └╥┘┌─┐                   ░ └╥┘┌─┐                   ░ └╥┘┌─┐»\n",
       "    q_1: ──────░──╫─┤M├───────────────────░──╫─┤M├───────────────────░──╫─┤M├»\n",
       "               ░  ║ └╥┘┌─┐                ░  ║ └╥┘┌─┐                ░  ║ └╥┘»\n",
       "    q_2: ──────░──╫──╫─┤M├────────────────░──╫──╫─┤M├────────────────░──╫──╫─»\n",
       "               ░  ║  ║ └╥┘┌─┐             ░  ║  ║ └╥┘┌─┐             ░  ║  ║ »\n",
       "    q_3: ──────░──╫──╫──╫─┤M├─────────────░──╫──╫──╫─┤M├─────────────░──╫──╫─»\n",
       "               ░  ║  ║  ║ └╥┘┌─┐          ░  ║  ║  ║ └╥┘┌─┐          ░  ║  ║ »\n",
       "    q_4: ──────░──╫──╫──╫──╫─┤M├──────────░──╫──╫──╫──╫─┤M├──────────░──╫──╫─»\n",
       "               ░  ║  ║  ║  ║ └╥┘┌─┐       ░  ║  ║  ║  ║ └╥┘┌─┐       ░  ║  ║ »\n",
       "    q_5: ──────░──╫──╫──╫──╫──╫─┤M├───────░──╫──╫──╫──╫──╫─┤M├───────░──╫──╫─»\n",
       "               ░  ║  ║  ║  ║  ║ └╥┘┌─┐    ░  ║  ║  ║  ║  ║ └╥┘┌─┐    ░  ║  ║ »\n",
       "    q_6: ──────░──╫──╫──╫──╫──╫──╫─┤M├────░──╫──╫──╫──╫──╫──╫─┤M├────░──╫──╫─»\n",
       "         ┌───┐ ░  ║  ║  ║  ║  ║  ║ └╥┘┌─┐ ░  ║  ║  ║  ║  ║  ║ └╥┘┌─┐ ░  ║  ║ »\n",
       "    q_7: ┤ X ├─░──╫──╫──╫──╫──╫──╫──╫─┤M├─░──╫──╫──╫──╫──╫──╫──╫─┤M├─░──╫──╫─»\n",
       "         └───┘ ░  ║  ║  ║  ║  ║  ║  ║ └╥┘ ░  ║  ║  ║  ║  ║  ║  ║ └╥┘ ░  ║  ║ »\n",
       " meas_0: ═════════╩══╬══╬══╬══╬══╬══╬══╬═════╬══╬══╬══╬══╬══╬══╬══╬═════╬══╬═»\n",
       "                     ║  ║  ║  ║  ║  ║  ║     ║  ║  ║  ║  ║  ║  ║  ║     ║  ║ »\n",
       " meas_1: ════════════╩══╬══╬══╬══╬══╬══╬═════╬══╬══╬══╬══╬══╬══╬══╬═════╬══╬═»\n",
       "                        ║  ║  ║  ║  ║  ║     ║  ║  ║  ║  ║  ║  ║  ║     ║  ║ »\n",
       " meas_2: ═══════════════╩══╬══╬══╬══╬══╬═════╬══╬══╬══╬══╬══╬══╬══╬═════╬══╬═»\n",
       "                           ║  ║  ║  ║  ║     ║  ║  ║  ║  ║  ║  ║  ║     ║  ║ »\n",
       " meas_3: ══════════════════╩══╬══╬══╬══╬═════╬══╬══╬══╬══╬══╬══╬══╬═════╬══╬═»\n",
       "                              ║  ║  ║  ║     ║  ║  ║  ║  ║  ║  ║  ║     ║  ║ »\n",
       " meas_4: ═════════════════════╩══╬══╬══╬═════╬══╬══╬══╬══╬══╬══╬══╬═════╬══╬═»\n",
       "                                 ║  ║  ║     ║  ║  ║  ║  ║  ║  ║  ║     ║  ║ »\n",
       " meas_5: ════════════════════════╩══╬══╬═════╬══╬══╬══╬══╬══╬══╬══╬═════╬══╬═»\n",
       "                                    ║  ║     ║  ║  ║  ║  ║  ║  ║  ║     ║  ║ »\n",
       " meas_6: ═══════════════════════════╩══╬═════╬══╬══╬══╬══╬══╬══╬══╬═════╬══╬═»\n",
       "                                       ║     ║  ║  ║  ║  ║  ║  ║  ║     ║  ║ »\n",
       " meas_7: ══════════════════════════════╩═════╬══╬══╬══╬══╬══╬══╬══╬═════╬══╬═»\n",
       "                                             ║  ║  ║  ║  ║  ║  ║  ║     ║  ║ »\n",
       "meas0_0: ════════════════════════════════════╩══╬══╬══╬══╬══╬══╬══╬═════╬══╬═»\n",
       "                                                ║  ║  ║  ║  ║  ║  ║     ║  ║ »\n",
       "meas0_1: ═══════════════════════════════════════╩══╬══╬══╬══╬══╬══╬═════╬══╬═»\n",
       "                                                   ║  ║  ║  ║  ║  ║     ║  ║ »\n",
       "meas0_2: ══════════════════════════════════════════╩══╬══╬══╬══╬══╬═════╬══╬═»\n",
       "                                                      ║  ║  ║  ║  ║     ║  ║ »\n",
       "meas0_3: ═════════════════════════════════════════════╩══╬══╬══╬══╬═════╬══╬═»\n",
       "                                                         ║  ║  ║  ║     ║  ║ »\n",
       "meas0_4: ════════════════════════════════════════════════╩══╬══╬══╬═════╬══╬═»\n",
       "                                                            ║  ║  ║     ║  ║ »\n",
       "meas0_5: ═══════════════════════════════════════════════════╩══╬══╬═════╬══╬═»\n",
       "                                                               ║  ║     ║  ║ »\n",
       "meas0_6: ══════════════════════════════════════════════════════╩══╬═════╬══╬═»\n",
       "                                                                  ║     ║  ║ »\n",
       "meas0_7: ═════════════════════════════════════════════════════════╩═════╬══╬═»\n",
       "                                                                        ║  ║ »\n",
       "meas1_0: ═══════════════════════════════════════════════════════════════╩══╬═»\n",
       "                                                                           ║ »\n",
       "meas1_1: ══════════════════════════════════════════════════════════════════╩═»\n",
       "                                                                             »\n",
       "meas1_2: ════════════════════════════════════════════════════════════════════»\n",
       "                                                                             »\n",
       "meas1_3: ════════════════════════════════════════════════════════════════════»\n",
       "                                                                             »\n",
       "meas1_4: ════════════════════════════════════════════════════════════════════»\n",
       "                                                                             »\n",
       "meas1_5: ════════════════════════════════════════════════════════════════════»\n",
       "                                                                             »\n",
       "meas1_6: ════════════════════════════════════════════════════════════════════»\n",
       "                                                                             »\n",
       "meas1_7: ════════════════════════════════════════════════════════════════════»\n",
       "                                                                             »\n",
       "«                           \n",
       "«    q_0: ──────────────────\n",
       "«                           \n",
       "«    q_1: ──────────────────\n",
       "«         ┌─┐               \n",
       "«    q_2: ┤M├───────────────\n",
       "«         └╥┘┌─┐            \n",
       "«    q_3: ─╫─┤M├────────────\n",
       "«          ║ └╥┘┌─┐         \n",
       "«    q_4: ─╫──╫─┤M├─────────\n",
       "«          ║  ║ └╥┘┌─┐      \n",
       "«    q_5: ─╫──╫──╫─┤M├──────\n",
       "«          ║  ║  ║ └╥┘┌─┐   \n",
       "«    q_6: ─╫──╫──╫──╫─┤M├───\n",
       "«          ║  ║  ║  ║ └╥┘┌─┐\n",
       "«    q_7: ─╫──╫──╫──╫──╫─┤M├\n",
       "«          ║  ║  ║  ║  ║ └╥┘\n",
       "« meas_0: ═╬══╬══╬══╬══╬══╬═\n",
       "«          ║  ║  ║  ║  ║  ║ \n",
       "« meas_1: ═╬══╬══╬══╬══╬══╬═\n",
       "«          ║  ║  ║  ║  ║  ║ \n",
       "« meas_2: ═╬══╬══╬══╬══╬══╬═\n",
       "«          ║  ║  ║  ║  ║  ║ \n",
       "« meas_3: ═╬══╬══╬══╬══╬══╬═\n",
       "«          ║  ║  ║  ║  ║  ║ \n",
       "« meas_4: ═╬══╬══╬══╬══╬══╬═\n",
       "«          ║  ║  ║  ║  ║  ║ \n",
       "« meas_5: ═╬══╬══╬══╬══╬══╬═\n",
       "«          ║  ║  ║  ║  ║  ║ \n",
       "« meas_6: ═╬══╬══╬══╬══╬══╬═\n",
       "«          ║  ║  ║  ║  ║  ║ \n",
       "« meas_7: ═╬══╬══╬══╬══╬══╬═\n",
       "«          ║  ║  ║  ║  ║  ║ \n",
       "«meas0_0: ═╬══╬══╬══╬══╬══╬═\n",
       "«          ║  ║  ║  ║  ║  ║ \n",
       "«meas0_1: ═╬══╬══╬══╬══╬══╬═\n",
       "«          ║  ║  ║  ║  ║  ║ \n",
       "«meas0_2: ═╬══╬══╬══╬══╬══╬═\n",
       "«          ║  ║  ║  ║  ║  ║ \n",
       "«meas0_3: ═╬══╬══╬══╬══╬══╬═\n",
       "«          ║  ║  ║  ║  ║  ║ \n",
       "«meas0_4: ═╬══╬══╬══╬══╬══╬═\n",
       "«          ║  ║  ║  ║  ║  ║ \n",
       "«meas0_5: ═╬══╬══╬══╬══╬══╬═\n",
       "«          ║  ║  ║  ║  ║  ║ \n",
       "«meas0_6: ═╬══╬══╬══╬══╬══╬═\n",
       "«          ║  ║  ║  ║  ║  ║ \n",
       "«meas0_7: ═╬══╬══╬══╬══╬══╬═\n",
       "«          ║  ║  ║  ║  ║  ║ \n",
       "«meas1_0: ═╬══╬══╬══╬══╬══╬═\n",
       "«          ║  ║  ║  ║  ║  ║ \n",
       "«meas1_1: ═╬══╬══╬══╬══╬══╬═\n",
       "«          ║  ║  ║  ║  ║  ║ \n",
       "«meas1_2: ═╩══╬══╬══╬══╬══╬═\n",
       "«             ║  ║  ║  ║  ║ \n",
       "«meas1_3: ════╩══╬══╬══╬══╬═\n",
       "«                ║  ║  ║  ║ \n",
       "«meas1_4: ═══════╩══╬══╬══╬═\n",
       "«                   ║  ║  ║ \n",
       "«meas1_5: ══════════╩══╬══╬═\n",
       "«                      ║  ║ \n",
       "«meas1_6: ═════════════╩══╬═\n",
       "«                         ║ \n",
       "«meas1_7: ════════════════╩═\n",
       "«                           </pre>"
      ],
      "text/plain": [
       "               ░ ┌─┐                      ░ ┌─┐                      ░ ┌─┐   »\n",
       "    q_0: ──────░─┤M├──────────────────────░─┤M├──────────────────────░─┤M├───»\n",
       "               ░ └╥┘┌─┐                   ░ └╥┘┌─┐                   ░ └╥┘┌─┐»\n",
       "    q_1: ──────░──╫─┤M├───────────────────░──╫─┤M├───────────────────░──╫─┤M├»\n",
       "               ░  ║ └╥┘┌─┐                ░  ║ └╥┘┌─┐                ░  ║ └╥┘»\n",
       "    q_2: ──────░──╫──╫─┤M├────────────────░──╫──╫─┤M├────────────────░──╫──╫─»\n",
       "               ░  ║  ║ └╥┘┌─┐             ░  ║  ║ └╥┘┌─┐             ░  ║  ║ »\n",
       "    q_3: ──────░──╫──╫──╫─┤M├─────────────░──╫──╫──╫─┤M├─────────────░──╫──╫─»\n",
       "               ░  ║  ║  ║ └╥┘┌─┐          ░  ║  ║  ║ └╥┘┌─┐          ░  ║  ║ »\n",
       "    q_4: ──────░──╫──╫──╫──╫─┤M├──────────░──╫──╫──╫──╫─┤M├──────────░──╫──╫─»\n",
       "               ░  ║  ║  ║  ║ └╥┘┌─┐       ░  ║  ║  ║  ║ └╥┘┌─┐       ░  ║  ║ »\n",
       "    q_5: ──────░──╫──╫──╫──╫──╫─┤M├───────░──╫──╫──╫──╫──╫─┤M├───────░──╫──╫─»\n",
       "               ░  ║  ║  ║  ║  ║ └╥┘┌─┐    ░  ║  ║  ║  ║  ║ └╥┘┌─┐    ░  ║  ║ »\n",
       "    q_6: ──────░──╫──╫──╫──╫──╫──╫─┤M├────░──╫──╫──╫──╫──╫──╫─┤M├────░──╫──╫─»\n",
       "         ┌───┐ ░  ║  ║  ║  ║  ║  ║ └╥┘┌─┐ ░  ║  ║  ║  ║  ║  ║ └╥┘┌─┐ ░  ║  ║ »\n",
       "    q_7: ┤ X ├─░──╫──╫──╫──╫──╫──╫──╫─┤M├─░──╫──╫──╫──╫──╫──╫──╫─┤M├─░──╫──╫─»\n",
       "         └───┘ ░  ║  ║  ║  ║  ║  ║  ║ └╥┘ ░  ║  ║  ║  ║  ║  ║  ║ └╥┘ ░  ║  ║ »\n",
       " meas_0: ═════════╩══╬══╬══╬══╬══╬══╬══╬═════╬══╬══╬══╬══╬══╬══╬══╬═════╬══╬═»\n",
       "                     ║  ║  ║  ║  ║  ║  ║     ║  ║  ║  ║  ║  ║  ║  ║     ║  ║ »\n",
       " meas_1: ════════════╩══╬══╬══╬══╬══╬══╬═════╬══╬══╬══╬══╬══╬══╬══╬═════╬══╬═»\n",
       "                        ║  ║  ║  ║  ║  ║     ║  ║  ║  ║  ║  ║  ║  ║     ║  ║ »\n",
       " meas_2: ═══════════════╩══╬══╬══╬══╬══╬═════╬══╬══╬══╬══╬══╬══╬══╬═════╬══╬═»\n",
       "                           ║  ║  ║  ║  ║     ║  ║  ║  ║  ║  ║  ║  ║     ║  ║ »\n",
       " meas_3: ══════════════════╩══╬══╬══╬══╬═════╬══╬══╬══╬══╬══╬══╬══╬═════╬══╬═»\n",
       "                              ║  ║  ║  ║     ║  ║  ║  ║  ║  ║  ║  ║     ║  ║ »\n",
       " meas_4: ═════════════════════╩══╬══╬══╬═════╬══╬══╬══╬══╬══╬══╬══╬═════╬══╬═»\n",
       "                                 ║  ║  ║     ║  ║  ║  ║  ║  ║  ║  ║     ║  ║ »\n",
       " meas_5: ════════════════════════╩══╬══╬═════╬══╬══╬══╬══╬══╬══╬══╬═════╬══╬═»\n",
       "                                    ║  ║     ║  ║  ║  ║  ║  ║  ║  ║     ║  ║ »\n",
       " meas_6: ═══════════════════════════╩══╬═════╬══╬══╬══╬══╬══╬══╬══╬═════╬══╬═»\n",
       "                                       ║     ║  ║  ║  ║  ║  ║  ║  ║     ║  ║ »\n",
       " meas_7: ══════════════════════════════╩═════╬══╬══╬══╬══╬══╬══╬══╬═════╬══╬═»\n",
       "                                             ║  ║  ║  ║  ║  ║  ║  ║     ║  ║ »\n",
       "meas0_0: ════════════════════════════════════╩══╬══╬══╬══╬══╬══╬══╬═════╬══╬═»\n",
       "                                                ║  ║  ║  ║  ║  ║  ║     ║  ║ »\n",
       "meas0_1: ═══════════════════════════════════════╩══╬══╬══╬══╬══╬══╬═════╬══╬═»\n",
       "                                                   ║  ║  ║  ║  ║  ║     ║  ║ »\n",
       "meas0_2: ══════════════════════════════════════════╩══╬══╬══╬══╬══╬═════╬══╬═»\n",
       "                                                      ║  ║  ║  ║  ║     ║  ║ »\n",
       "meas0_3: ═════════════════════════════════════════════╩══╬══╬══╬══╬═════╬══╬═»\n",
       "                                                         ║  ║  ║  ║     ║  ║ »\n",
       "meas0_4: ════════════════════════════════════════════════╩══╬══╬══╬═════╬══╬═»\n",
       "                                                            ║  ║  ║     ║  ║ »\n",
       "meas0_5: ═══════════════════════════════════════════════════╩══╬══╬═════╬══╬═»\n",
       "                                                               ║  ║     ║  ║ »\n",
       "meas0_6: ══════════════════════════════════════════════════════╩══╬═════╬══╬═»\n",
       "                                                                  ║     ║  ║ »\n",
       "meas0_7: ═════════════════════════════════════════════════════════╩═════╬══╬═»\n",
       "                                                                        ║  ║ »\n",
       "meas1_0: ═══════════════════════════════════════════════════════════════╩══╬═»\n",
       "                                                                           ║ »\n",
       "meas1_1: ══════════════════════════════════════════════════════════════════╩═»\n",
       "                                                                             »\n",
       "meas1_2: ════════════════════════════════════════════════════════════════════»\n",
       "                                                                             »\n",
       "meas1_3: ════════════════════════════════════════════════════════════════════»\n",
       "                                                                             »\n",
       "meas1_4: ════════════════════════════════════════════════════════════════════»\n",
       "                                                                             »\n",
       "meas1_5: ════════════════════════════════════════════════════════════════════»\n",
       "                                                                             »\n",
       "meas1_6: ════════════════════════════════════════════════════════════════════»\n",
       "                                                                             »\n",
       "meas1_7: ════════════════════════════════════════════════════════════════════»\n",
       "                                                                             »\n",
       "«                           \n",
       "«    q_0: ──────────────────\n",
       "«                           \n",
       "«    q_1: ──────────────────\n",
       "«         ┌─┐               \n",
       "«    q_2: ┤M├───────────────\n",
       "«         └╥┘┌─┐            \n",
       "«    q_3: ─╫─┤M├────────────\n",
       "«          ║ └╥┘┌─┐         \n",
       "«    q_4: ─╫──╫─┤M├─────────\n",
       "«          ║  ║ └╥┘┌─┐      \n",
       "«    q_5: ─╫──╫──╫─┤M├──────\n",
       "«          ║  ║  ║ └╥┘┌─┐   \n",
       "«    q_6: ─╫──╫──╫──╫─┤M├───\n",
       "«          ║  ║  ║  ║ └╥┘┌─┐\n",
       "«    q_7: ─╫──╫──╫──╫──╫─┤M├\n",
       "«          ║  ║  ║  ║  ║ └╥┘\n",
       "« meas_0: ═╬══╬══╬══╬══╬══╬═\n",
       "«          ║  ║  ║  ║  ║  ║ \n",
       "« meas_1: ═╬══╬══╬══╬══╬══╬═\n",
       "«          ║  ║  ║  ║  ║  ║ \n",
       "« meas_2: ═╬══╬══╬══╬══╬══╬═\n",
       "«          ║  ║  ║  ║  ║  ║ \n",
       "« meas_3: ═╬══╬══╬══╬══╬══╬═\n",
       "«          ║  ║  ║  ║  ║  ║ \n",
       "« meas_4: ═╬══╬══╬══╬══╬══╬═\n",
       "«          ║  ║  ║  ║  ║  ║ \n",
       "« meas_5: ═╬══╬══╬══╬══╬══╬═\n",
       "«          ║  ║  ║  ║  ║  ║ \n",
       "« meas_6: ═╬══╬══╬══╬══╬══╬═\n",
       "«          ║  ║  ║  ║  ║  ║ \n",
       "« meas_7: ═╬══╬══╬══╬══╬══╬═\n",
       "«          ║  ║  ║  ║  ║  ║ \n",
       "«meas0_0: ═╬══╬══╬══╬══╬══╬═\n",
       "«          ║  ║  ║  ║  ║  ║ \n",
       "«meas0_1: ═╬══╬══╬══╬══╬══╬═\n",
       "«          ║  ║  ║  ║  ║  ║ \n",
       "«meas0_2: ═╬══╬══╬══╬══╬══╬═\n",
       "«          ║  ║  ║  ║  ║  ║ \n",
       "«meas0_3: ═╬══╬══╬══╬══╬══╬═\n",
       "«          ║  ║  ║  ║  ║  ║ \n",
       "«meas0_4: ═╬══╬══╬══╬══╬══╬═\n",
       "«          ║  ║  ║  ║  ║  ║ \n",
       "«meas0_5: ═╬══╬══╬══╬══╬══╬═\n",
       "«          ║  ║  ║  ║  ║  ║ \n",
       "«meas0_6: ═╬══╬══╬══╬══╬══╬═\n",
       "«          ║  ║  ║  ║  ║  ║ \n",
       "«meas0_7: ═╬══╬══╬══╬══╬══╬═\n",
       "«          ║  ║  ║  ║  ║  ║ \n",
       "«meas1_0: ═╬══╬══╬══╬══╬══╬═\n",
       "«          ║  ║  ║  ║  ║  ║ \n",
       "«meas1_1: ═╬══╬══╬══╬══╬══╬═\n",
       "«          ║  ║  ║  ║  ║  ║ \n",
       "«meas1_2: ═╩══╬══╬══╬══╬══╬═\n",
       "«             ║  ║  ║  ║  ║ \n",
       "«meas1_3: ════╩══╬══╬══╬══╬═\n",
       "«                ║  ║  ║  ║ \n",
       "«meas1_4: ═══════╩══╬══╬══╬═\n",
       "«                   ║  ║  ║ \n",
       "«meas1_5: ══════════╩══╬══╬═\n",
       "«                      ║  ║ \n",
       "«meas1_6: ═════════════╩══╬═\n",
       "«                         ║ \n",
       "«meas1_7: ════════════════╩═\n",
       "«                           "
      ]
     },
     "execution_count": 23,
     "metadata": {},
     "output_type": "execute_result"
    }
   ],
   "source": [
    "qc1.measure_all()\n",
    "qc1.draw()"
   ]
  },
  {
   "cell_type": "code",
   "execution_count": 24,
   "id": "4133fe31",
   "metadata": {},
   "outputs": [
    {
     "data": {
      "image/png": "[encoded data removed]",
      "text/plain": [
       "<Figure size 700x500 with 1 Axes>"
      ]
     },
     "execution_count": 24,
     "metadata": {},
     "output_type": "execute_result"
    }
   ],
   "source": [
    "sim = Aer.get_backend('aer_simulator') \n",
    "result = sim.run(qc1).result()\n",
    "counts = result.get_counts()\n",
    "plot_histogram(counts)"
   ]
  },
  {
   "cell_type": "code",
   "execution_count": 34,
   "id": "a6fb8bc4",
   "metadata": {},
   "outputs": [
    {
     "data": {
      "text/html": [
       "<pre style=\"word-wrap: normal;white-space: pre;background: #fff0;line-height: 1.1;font-family: &quot;Courier New&quot;,Courier,monospace\">     ┌───┐\n",
       "q_0: ┤ X ├\n",
       "     └───┘\n",
       "q_1: ─────\n",
       "     ┌───┐\n",
       "q_2: ┤ X ├\n",
       "     └───┘\n",
       "q_3: ─────\n",
       "     ┌───┐\n",
       "q_4: ┤ X ├\n",
       "     └───┘\n",
       "q_5: ─────\n",
       "          \n",
       "q_6: ─────\n",
       "          \n",
       "q_7: ─────\n",
       "          </pre>"
      ],
      "text/plain": [
       "     ┌───┐\n",
       "q_0: ┤ X ├\n",
       "     └───┘\n",
       "q_1: ─────\n",
       "     ┌───┐\n",
       "q_2: ┤ X ├\n",
       "     └───┘\n",
       "q_3: ─────\n",
       "     ┌───┐\n",
       "q_4: ┤ X ├\n",
       "     └───┘\n",
       "q_5: ─────\n",
       "          \n",
       "q_6: ─────\n",
       "          \n",
       "q_7: ─────\n",
       "          "
      ]
     },
     "execution_count": 34,
     "metadata": {},
     "output_type": "execute_result"
    }
   ],
   "source": [
    "qc2 = QuantumCircuit(8)\n",
    "qc2.x(0)\n",
    "qc2.x(2)\n",
    "qc2.x(4)\n",
    "qc2.draw()"
   ]
  },
  {
   "cell_type": "code",
   "execution_count": 35,
   "id": "27b1f0d8",
   "metadata": {},
   "outputs": [
    {
     "data": {
      "text/html": [
       "<pre style=\"word-wrap: normal;white-space: pre;background: #fff0;line-height: 1.1;font-family: &quot;Courier New&quot;,Courier,monospace\">        ┌───┐ ░ ┌─┐                     \n",
       "   q_0: ┤ X ├─░─┤M├─────────────────────\n",
       "        └───┘ ░ └╥┘┌─┐                  \n",
       "   q_1: ──────░──╫─┤M├──────────────────\n",
       "        ┌───┐ ░  ║ └╥┘┌─┐               \n",
       "   q_2: ┤ X ├─░──╫──╫─┤M├───────────────\n",
       "        └───┘ ░  ║  ║ └╥┘┌─┐            \n",
       "   q_3: ──────░──╫──╫──╫─┤M├────────────\n",
       "        ┌───┐ ░  ║  ║  ║ └╥┘┌─┐         \n",
       "   q_4: ┤ X ├─░──╫──╫──╫──╫─┤M├─────────\n",
       "        └───┘ ░  ║  ║  ║  ║ └╥┘┌─┐      \n",
       "   q_5: ──────░──╫──╫──╫──╫──╫─┤M├──────\n",
       "              ░  ║  ║  ║  ║  ║ └╥┘┌─┐   \n",
       "   q_6: ──────░──╫──╫──╫──╫──╫──╫─┤M├───\n",
       "              ░  ║  ║  ║  ║  ║  ║ └╥┘┌─┐\n",
       "   q_7: ──────░──╫──╫──╫──╫──╫──╫──╫─┤M├\n",
       "              ░  ║  ║  ║  ║  ║  ║  ║ └╥┘\n",
       "meas_0: ═════════╩══╬══╬══╬══╬══╬══╬══╬═\n",
       "                    ║  ║  ║  ║  ║  ║  ║ \n",
       "meas_1: ════════════╩══╬══╬══╬══╬══╬══╬═\n",
       "                       ║  ║  ║  ║  ║  ║ \n",
       "meas_2: ═══════════════╩══╬══╬══╬══╬══╬═\n",
       "                          ║  ║  ║  ║  ║ \n",
       "meas_3: ══════════════════╩══╬══╬══╬══╬═\n",
       "                             ║  ║  ║  ║ \n",
       "meas_4: ═════════════════════╩══╬══╬══╬═\n",
       "                                ║  ║  ║ \n",
       "meas_5: ════════════════════════╩══╬══╬═\n",
       "                                   ║  ║ \n",
       "meas_6: ═══════════════════════════╩══╬═\n",
       "                                      ║ \n",
       "meas_7: ══════════════════════════════╩═\n",
       "                                        </pre>"
      ],
      "text/plain": [
       "        ┌───┐ ░ ┌─┐                     \n",
       "   q_0: ┤ X ├─░─┤M├─────────────────────\n",
       "        └───┘ ░ └╥┘┌─┐                  \n",
       "   q_1: ──────░──╫─┤M├──────────────────\n",
       "        ┌───┐ ░  ║ └╥┘┌─┐               \n",
       "   q_2: ┤ X ├─░──╫──╫─┤M├───────────────\n",
       "        └───┘ ░  ║  ║ └╥┘┌─┐            \n",
       "   q_3: ──────░──╫──╫──╫─┤M├────────────\n",
       "        ┌───┐ ░  ║  ║  ║ └╥┘┌─┐         \n",
       "   q_4: ┤ X ├─░──╫──╫──╫──╫─┤M├─────────\n",
       "        └───┘ ░  ║  ║  ║  ║ └╥┘┌─┐      \n",
       "   q_5: ──────░──╫──╫──╫──╫──╫─┤M├──────\n",
       "              ░  ║  ║  ║  ║  ║ └╥┘┌─┐   \n",
       "   q_6: ──────░──╫──╫──╫──╫──╫──╫─┤M├───\n",
       "              ░  ║  ║  ║  ║  ║  ║ └╥┘┌─┐\n",
       "   q_7: ──────░──╫──╫──╫──╫──╫──╫──╫─┤M├\n",
       "              ░  ║  ║  ║  ║  ║  ║  ║ └╥┘\n",
       "meas_0: ═════════╩══╬══╬══╬══╬══╬══╬══╬═\n",
       "                    ║  ║  ║  ║  ║  ║  ║ \n",
       "meas_1: ════════════╩══╬══╬══╬══╬══╬══╬═\n",
       "                       ║  ║  ║  ║  ║  ║ \n",
       "meas_2: ═══════════════╩══╬══╬══╬══╬══╬═\n",
       "                          ║  ║  ║  ║  ║ \n",
       "meas_3: ══════════════════╩══╬══╬══╬══╬═\n",
       "                             ║  ║  ║  ║ \n",
       "meas_4: ═════════════════════╩══╬══╬══╬═\n",
       "                                ║  ║  ║ \n",
       "meas_5: ════════════════════════╩══╬══╬═\n",
       "                                   ║  ║ \n",
       "meas_6: ═══════════════════════════╩══╬═\n",
       "                                      ║ \n",
       "meas_7: ══════════════════════════════╩═\n",
       "                                        "
      ]
     },
     "execution_count": 35,
     "metadata": {},
     "output_type": "execute_result"
    }
   ],
   "source": [
    "qc2.measure_all()\n",
    "qc2.draw()"
   ]
  },
  {
   "cell_type": "code",
   "execution_count": 36,
   "id": "c425232d",
   "metadata": {},
   "outputs": [
    {
     "data": {
      "image/png": "[encoded data removed]",
      "text/plain": [
       "<Figure size 700x500 with 1 Axes>"
      ]
     },
     "execution_count": 36,
     "metadata": {},
     "output_type": "execute_result"
    }
   ],
   "source": [
    "sim = Aer.get_backend('aer_simulator') \n",
    "result = sim.run(qc2).result()\n",
    "counts = result.get_counts()\n",
    "plot_histogram(counts)"
   ]
  },
  {
   "cell_type": "code",
   "execution_count": 38,
   "id": "72603dce",
   "metadata": {},
   "outputs": [
    {
     "data": {
      "text/html": [
       "<pre style=\"word-wrap: normal;white-space: pre;background: #fff0;line-height: 1.1;font-family: &quot;Courier New&quot;,Courier,monospace\">          \n",
       "q_0: ──■──\n",
       "     ┌─┴─┐\n",
       "q_1: ┤ X ├\n",
       "     └───┘</pre>"
      ],
      "text/plain": [
       "          \n",
       "q_0: ──■──\n",
       "     ┌─┴─┐\n",
       "q_1: ┤ X ├\n",
       "     └───┘"
      ]
     },
     "execution_count": 38,
     "metadata": {},
     "output_type": "execute_result"
    }
   ],
   "source": [
    "qc_cnot=QuantumCircuit(2)\n",
    "qc_cnot.cx(0,1)\n",
    "qc_cnot.draw()"
   ]
  },
  {
   "cell_type": "code",
   "execution_count": 41,
   "id": "71ed528d",
   "metadata": {},
   "outputs": [
    {
     "data": {
      "text/html": [
       "<pre style=\"word-wrap: normal;white-space: pre;background: #fff0;line-height: 1.1;font-family: &quot;Courier New&quot;,Courier,monospace\">     ┌───┐     ┌─┐   \n",
       "q_0: ┤ X ├──■──┤M├───\n",
       "     └───┘┌─┴─┐└╥┘┌─┐\n",
       "q_1: ─────┤ X ├─╫─┤M├\n",
       "          └───┘ ║ └╥┘\n",
       "c_0: ═══════════╩══╬═\n",
       "                   ║ \n",
       "c_1: ══════════════╩═\n",
       "                     </pre>"
      ],
      "text/plain": [
       "     ┌───┐     ┌─┐   \n",
       "q_0: ┤ X ├──■──┤M├───\n",
       "     └───┘┌─┴─┐└╥┘┌─┐\n",
       "q_1: ─────┤ X ├─╫─┤M├\n",
       "          └───┘ ║ └╥┘\n",
       "c_0: ═══════════╩══╬═\n",
       "                   ║ \n",
       "c_1: ══════════════╩═\n",
       "                     "
      ]
     },
     "execution_count": 41,
     "metadata": {},
     "output_type": "execute_result"
    }
   ],
   "source": [
    "qc = QuantumCircuit(2,2)\n",
    "qc.x(0)\n",
    "qc.cx(0,1)\n",
    "qc.measure(0,0)\n",
    "qc.measure(1,1)\n",
    "qc.draw()"
   ]
  },
  {
   "cell_type": "code",
   "execution_count": 42,
   "id": "2bbabf32",
   "metadata": {},
   "outputs": [
    {
     "data": {
      "text/html": [
       "<pre style=\"word-wrap: normal;white-space: pre;background: #fff0;line-height: 1.1;font-family: &quot;Courier New&quot;,Courier,monospace\">     ┌───┐ ░            ░       \n",
       "q_0: ┤ X ├─░───■────────░───────\n",
       "     ├───┤ ░   │        ░       \n",
       "q_1: ┤ X ├─░───┼────■───░───────\n",
       "     └───┘ ░ ┌─┴─┐┌─┴─┐ ░ ┌─┐   \n",
       "q_2: ──────░─┤ X ├┤ X ├─░─┤M├───\n",
       "           ░ └───┘└───┘ ░ └╥┘┌─┐\n",
       "q_3: ──────░────────────░──╫─┤M├\n",
       "           ░            ░  ║ └╥┘\n",
       "c_0: ══════════════════════╩══╬═\n",
       "                              ║ \n",
       "c_1: ═════════════════════════╩═\n",
       "                                </pre>"
      ],
      "text/plain": [
       "     ┌───┐ ░            ░       \n",
       "q_0: ┤ X ├─░───■────────░───────\n",
       "     ├───┤ ░   │        ░       \n",
       "q_1: ┤ X ├─░───┼────■───░───────\n",
       "     └───┘ ░ ┌─┴─┐┌─┴─┐ ░ ┌─┐   \n",
       "q_2: ──────░─┤ X ├┤ X ├─░─┤M├───\n",
       "           ░ └───┘└───┘ ░ └╥┘┌─┐\n",
       "q_3: ──────░────────────░──╫─┤M├\n",
       "           ░            ░  ║ └╥┘\n",
       "c_0: ══════════════════════╩══╬═\n",
       "                              ║ \n",
       "c_1: ═════════════════════════╩═\n",
       "                                "
      ]
     },
     "execution_count": 42,
     "metadata": {},
     "output_type": "execute_result"
    }
   ],
   "source": [
    "qc_ha = QuantumCircuit(4, 2)\n",
    "qc_ha.x(0)\n",
    "qc_ha.x(1)\n",
    "qc_ha.barrier()\n",
    "\n",
    "qc_ha.cx(0,2)\n",
    "qc_ha.cx(1,2)\n",
    "qc_ha.barrier()\n",
    "\n",
    "qc_ha.measure(2,0)\n",
    "qc_ha.measure(3,1)\n",
    "\n",
    "qc_ha.draw()"
   ]
  },
  {
   "cell_type": "code",
   "execution_count": 43,
   "id": "827494c8",
   "metadata": {},
   "outputs": [
    {
     "data": {
      "text/html": [
       "<pre style=\"word-wrap: normal;white-space: pre;background: #fff0;line-height: 1.1;font-family: &quot;Courier New&quot;,Courier,monospace\">     ┌───┐ ░                 ░       \n",
       "q_0: ┤ X ├─░───■─────────■───░───────\n",
       "     ├───┤ ░   │         │   ░       \n",
       "q_1: ┤ X ├─░───┼────■────■───░───────\n",
       "     └───┘ ░ ┌─┴─┐┌─┴─┐  │   ░ ┌─┐   \n",
       "q_2: ──────░─┤ X ├┤ X ├──┼───░─┤M├───\n",
       "           ░ └───┘└───┘┌─┴─┐ ░ └╥┘┌─┐\n",
       "q_3: ──────░───────────┤ X ├─░──╫─┤M├\n",
       "           ░           └───┘ ░  ║ └╥┘\n",
       "c_0: ═══════════════════════════╩══╬═\n",
       "                                   ║ \n",
       "c_1: ══════════════════════════════╩═\n",
       "                                     </pre>"
      ],
      "text/plain": [
       "     ┌───┐ ░                 ░       \n",
       "q_0: ┤ X ├─░───■─────────■───░───────\n",
       "     ├───┤ ░   │         │   ░       \n",
       "q_1: ┤ X ├─░───┼────■────■───░───────\n",
       "     └───┘ ░ ┌─┴─┐┌─┴─┐  │   ░ ┌─┐   \n",
       "q_2: ──────░─┤ X ├┤ X ├──┼───░─┤M├───\n",
       "           ░ └───┘└───┘┌─┴─┐ ░ └╥┘┌─┐\n",
       "q_3: ──────░───────────┤ X ├─░──╫─┤M├\n",
       "           ░           └───┘ ░  ║ └╥┘\n",
       "c_0: ═══════════════════════════╩══╬═\n",
       "                                   ║ \n",
       "c_1: ══════════════════════════════╩═\n",
       "                                     "
      ]
     },
     "execution_count": 43,
     "metadata": {},
     "output_type": "execute_result"
    }
   ],
   "source": [
    "qc_ha = QuantumCircuit(4, 2)\n",
    "qc_ha.x(0)\n",
    "qc_ha.x(1)\n",
    "qc_ha.barrier()\n",
    "\n",
    "qc_ha.cx(0,2)\n",
    "qc_ha.cx(1,2)\n",
    "\n",
    "qc_ha.ccx(0,1,3)\n",
    "qc_ha.barrier()\n",
    "\n",
    "qc_ha.measure(2,0)\n",
    "qc_ha.measure(3,1)\n",
    "\n",
    "qc_ha.draw()"
   ]
  },
  {
   "cell_type": "code",
   "execution_count": 44,
   "id": "6311388c",
   "metadata": {},
   "outputs": [
    {
     "data": {
      "image/png": "[encoded data removed]",
      "text/plain": [
       "<Figure size 700x500 with 1 Axes>"
      ]
     },
     "execution_count": 44,
     "metadata": {},
     "output_type": "execute_result"
    }
   ],
   "source": [
    "qobj = assemble(qc_ha)\n",
    "counts = sim.run(qobj).result().get_counts()\n",
    "plot_histogram(counts)"
   ]
  },
  {
   "cell_type": "code",
   "execution_count": null,
   "id": "a02701aa",
   "metadata": {},
   "outputs": [],
   "source": []
  }
 ],
 "metadata": {
  "kernelspec": {
   "display_name": "Python 3 (ipykernel)",
   "language": "python",
   "name": "python3"
  },
  "language_info": {
   "codemirror_mode": {
    "name": "ipython",
    "version": 3
   },
   "file_extension": ".py",
   "mimetype": "text/x-python",
   "name": "python",
   "nbconvert_exporter": "python",
   "pygments_lexer": "ipython3",
   "version": "3.10.8"
  }
 },
 "nbformat": 4,
 "nbformat_minor": 5
}
